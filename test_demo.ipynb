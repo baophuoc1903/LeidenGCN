{
 "cells": [
  {
   "cell_type": "code",
   "execution_count": 1,
   "metadata": {
    "collapsed": true
   },
   "outputs": [],
   "source": [
    "import copy\n",
    "import os\n",
    "import time\n",
    "import logging\n",
    "import torch\n",
    "import torch.optim as optim\n",
    "from dataset import OGBNDataset\n",
    "from ogb.nodeproppred import Evaluator\n",
    "from utils.logger import Logger, set_logging\n",
    "from utils.cluster import partition_graph\n",
    "from utils.loops import (\n",
    "    train,\n",
    "    multi_evaluate)\n",
    "from gcn import GCN\n",
    "import warnings\n",
    "\n",
    "warnings.filterwarnings('ignore')"
   ]
  },
  {
   "cell_type": "code",
   "execution_count": 2,
   "outputs": [
    {
     "name": "stdout",
     "output_type": "stream",
     "text": [
      "dataset\\init_node_features_mean.pt exists\n"
     ]
    }
   ],
   "source": [
    "dataset = OGBNDataset(dataset_name='ogbn-proteins', aggr='mean')"
   ],
   "metadata": {
    "collapsed": false
   }
  },
  {
   "cell_type": "markdown",
   "source": [
    "# Build argument for evaluation"
   ],
   "metadata": {
    "collapsed": false
   }
  },
  {
   "cell_type": "code",
   "execution_count": 3,
   "outputs": [],
   "source": [
    "class Args:\n",
    "    def __init__(self, num_layers=5, cluster_type='random', overlap_ratio=0.5, edge_drop=0.5, intervals=1, cluster_number=20, clusters_path=r'dataset/leiden_clusters_80_100_weight_final.csv', save=r'log/EXP_0005lr250-leiden_species_Overlap_05-Aggr_mean-Epochs_1000-Intervals_1-Layers_5-Embed_256-Dropout_0.5-Edge_drop_0.5', model_path='leiden_species-train_20-test_20-num_evals_1_valid_best.pth'):\n",
    "        self.num_layers = num_layers\n",
    "        self.cluster_type = cluster_type\n",
    "        self.overlap_ratio = overlap_ratio\n",
    "        self.edge_drop = edge_drop\n",
    "        self.intervals = intervals\n",
    "        self.cluster_number = cluster_number\n",
    "        self.clusters_path = clusters_path\n",
    "        self.dataset = 'ogbn-proteins'\n",
    "        self.aggr = 'mean'\n",
    "        self.nruns = 1\n",
    "        self.use_cpu = False\n",
    "        self.device = 0\n",
    "        self.epochs = 1000\n",
    "        self.num_evals = 1\n",
    "        self.lr = 0.005\n",
    "        self.dropout = 0.5\n",
    "        self.hidden_channels = 256\n",
    "        self.in_channels = 8\n",
    "        self.num_tasks = 112\n",
    "        self.model_save_path = 'model_ckpt'\n",
    "        self.save = save\n",
    "        self.model_load_path = model_path\n",
    "        self.pretrain = os.path.join(save, self.model_save_path, self.model_load_path)"
   ],
   "metadata": {
    "collapsed": false
   }
  },
  {
   "cell_type": "code",
   "execution_count": 4,
   "outputs": [],
   "source": [
    "leiden_args = Args()\n",
    "random_args = Args(edge_drop=0.0, save=r'log/EXP_0005lr250-random-Aggr_mean-Epochs_1000-Intervals_1-Layers_5-Embed_256-Dropout_0.5-Edge_drop_0.0', model_path=r'random-train_20-test_20-num_evals_1_valid_best.pth')"
   ],
   "metadata": {
    "collapsed": false
   }
  },
  {
   "cell_type": "markdown",
   "source": [
    "# Evaluation function"
   ],
   "metadata": {
    "collapsed": false
   }
  },
  {
   "cell_type": "code",
   "execution_count": 5,
   "outputs": [],
   "source": [
    "def demo_evaluation(args, dataset):\n",
    "    # ROC-AUC evaluator\n",
    "    evaluator = Evaluator('ogbn-proteins')\n",
    "\n",
    "    # Model\n",
    "    model = GCN(args)\n",
    "    pretrain = torch.load(args.pretrain)['model_state_dict']\n",
    "    model.load_state_dict(pretrain)\n",
    "    model = model.to(args.device)\n",
    "\n",
    "    data_evals = []\n",
    "    for i in range(args.num_evals):\n",
    "        mini_batches = partition_graph(dataset, args)\n",
    "        data = dataset.generate_sub_graphs(mini_batches, cluster_number=args.cluster_number)\n",
    "        data_evals.append(data)\n",
    "\n",
    "    result = multi_evaluate(data_evals, dataset, model, evaluator, args.device)\n",
    "\n",
    "    print(f\"\\033[92mTest ROC-AUC: {result['test']['rocauc']}\\033[0m\")"
   ],
   "metadata": {
    "collapsed": false
   }
  },
  {
   "cell_type": "markdown",
   "source": [
    "# Random result"
   ],
   "metadata": {
    "collapsed": false
   }
  },
  {
   "cell_type": "code",
   "execution_count": 6,
   "outputs": [
    {
     "name": "stderr",
     "output_type": "stream",
     "text": [
      "Generate subgraph for training: 100%|██████████| 20/20 [00:00<00:00, 20.70it/s]\n",
      "Evaluation process: 100%|██████████| 20/20 [00:02<00:00,  9.57it/s]\n"
     ]
    },
    {
     "name": "stdout",
     "output_type": "stream",
     "text": [
      "\u001B[92mTest ROC-AUC: 0.78313107357236\u001B[0m\n"
     ]
    },
    {
     "name": "stderr",
     "output_type": "stream",
     "text": [
      "Generate subgraph for training: 100%|██████████| 20/20 [00:00<00:00, 20.79it/s]\n",
      "Evaluation process: 100%|██████████| 20/20 [00:00<00:00, 28.10it/s]\n"
     ]
    },
    {
     "name": "stdout",
     "output_type": "stream",
     "text": [
      "\u001B[92mTest ROC-AUC: 0.7833654667844053\u001B[0m\n"
     ]
    },
    {
     "name": "stderr",
     "output_type": "stream",
     "text": [
      "Generate subgraph for training: 100%|██████████| 20/20 [00:00<00:00, 21.06it/s]\n",
      "Evaluation process: 100%|██████████| 20/20 [00:00<00:00, 25.46it/s]\n"
     ]
    },
    {
     "name": "stdout",
     "output_type": "stream",
     "text": [
      "\u001B[92mTest ROC-AUC: 0.7802637005624123\u001B[0m\n"
     ]
    },
    {
     "name": "stderr",
     "output_type": "stream",
     "text": [
      "Generate subgraph for training: 100%|██████████| 20/20 [00:00<00:00, 20.58it/s]\n",
      "Evaluation process: 100%|██████████| 20/20 [00:00<00:00, 26.51it/s]\n"
     ]
    },
    {
     "name": "stdout",
     "output_type": "stream",
     "text": [
      "\u001B[92mTest ROC-AUC: 0.7821013979245649\u001B[0m\n"
     ]
    },
    {
     "name": "stderr",
     "output_type": "stream",
     "text": [
      "Generate subgraph for training: 100%|██████████| 20/20 [00:00<00:00, 20.61it/s]\n",
      "Evaluation process: 100%|██████████| 20/20 [00:00<00:00, 25.99it/s]\n"
     ]
    },
    {
     "name": "stdout",
     "output_type": "stream",
     "text": [
      "\u001B[92mTest ROC-AUC: 0.7817902572647808\u001B[0m\n"
     ]
    }
   ],
   "source": [
    "for i in range(5):\n",
    "    demo_evaluation(random_args, dataset)"
   ],
   "metadata": {
    "collapsed": false
   }
  },
  {
   "cell_type": "markdown",
   "source": [
    "# Leiden result"
   ],
   "metadata": {
    "collapsed": false
   }
  },
  {
   "cell_type": "code",
   "execution_count": 7,
   "outputs": [
    {
     "name": "stderr",
     "output_type": "stream",
     "text": [
      "Generate subgraph for training: 100%|██████████| 20/20 [00:01<00:00, 19.95it/s]\n",
      "Evaluation process: 100%|██████████| 20/20 [00:00<00:00, 29.27it/s]\n"
     ]
    },
    {
     "name": "stdout",
     "output_type": "stream",
     "text": [
      "\u001B[92mTest ROC-AUC: 0.7948158326072631\u001B[0m\n"
     ]
    },
    {
     "name": "stderr",
     "output_type": "stream",
     "text": [
      "Generate subgraph for training: 100%|██████████| 20/20 [00:00<00:00, 20.14it/s]\n",
      "Evaluation process: 100%|██████████| 20/20 [00:00<00:00, 27.72it/s]\n"
     ]
    },
    {
     "name": "stdout",
     "output_type": "stream",
     "text": [
      "\u001B[92mTest ROC-AUC: 0.7948684042084887\u001B[0m\n"
     ]
    },
    {
     "name": "stderr",
     "output_type": "stream",
     "text": [
      "Generate subgraph for training: 100%|██████████| 20/20 [00:00<00:00, 20.16it/s]\n",
      "Evaluation process: 100%|██████████| 20/20 [00:00<00:00, 25.53it/s]\n"
     ]
    },
    {
     "name": "stdout",
     "output_type": "stream",
     "text": [
      "\u001B[92mTest ROC-AUC: 0.7945156127991814\u001B[0m\n"
     ]
    },
    {
     "name": "stderr",
     "output_type": "stream",
     "text": [
      "Generate subgraph for training: 100%|██████████| 20/20 [00:00<00:00, 20.12it/s]\n",
      "Evaluation process: 100%|██████████| 20/20 [00:00<00:00, 25.69it/s]\n"
     ]
    },
    {
     "name": "stdout",
     "output_type": "stream",
     "text": [
      "\u001B[92mTest ROC-AUC: 0.7934098247717125\u001B[0m\n"
     ]
    },
    {
     "name": "stderr",
     "output_type": "stream",
     "text": [
      "Generate subgraph for training: 100%|██████████| 20/20 [00:00<00:00, 20.53it/s]\n",
      "Evaluation process: 100%|██████████| 20/20 [00:00<00:00, 24.91it/s]\n"
     ]
    },
    {
     "name": "stdout",
     "output_type": "stream",
     "text": [
      "\u001B[92mTest ROC-AUC: 0.7961941584774133\u001B[0m\n"
     ]
    }
   ],
   "source": [
    "for i in range(5):\n",
    "    demo_evaluation(leiden_args, dataset)"
   ],
   "metadata": {
    "collapsed": false
   }
  },
  {
   "cell_type": "markdown",
   "source": [
    "# Leiden and random with more evaluation"
   ],
   "metadata": {
    "collapsed": false
   }
  },
  {
   "cell_type": "markdown",
   "source": [
    "### Random"
   ],
   "metadata": {
    "collapsed": false
   }
  },
  {
   "cell_type": "code",
   "execution_count": null,
   "outputs": [],
   "source": [
    "random_args.num_evals = 5\n",
    "for i in range(5):\n",
    "    demo_evaluation(random_args, dataset)"
   ],
   "metadata": {
    "collapsed": false
   }
  },
  {
   "cell_type": "markdown",
   "source": [
    "### Leiden"
   ],
   "metadata": {
    "collapsed": false
   }
  },
  {
   "cell_type": "code",
   "execution_count": null,
   "outputs": [],
   "source": [
    "leiden_args.num_evals = 5\n",
    "for i in range(5):\n",
    "    demo_evaluation(leiden_args, dataset)"
   ],
   "metadata": {
    "collapsed": false
   }
  }
 ],
 "metadata": {
  "kernelspec": {
   "display_name": "Python 3",
   "language": "python",
   "name": "python3"
  },
  "language_info": {
   "codemirror_mode": {
    "name": "ipython",
    "version": 2
   },
   "file_extension": ".py",
   "mimetype": "text/x-python",
   "name": "python",
   "nbconvert_exporter": "python",
   "pygments_lexer": "ipython2",
   "version": "2.7.6"
  }
 },
 "nbformat": 4,
 "nbformat_minor": 0
}
